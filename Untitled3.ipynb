{
  "nbformat": 4,
  "nbformat_minor": 0,
  "metadata": {
    "colab": {
      "provenance": [],
      "authorship_tag": "ABX9TyOvfXWnfElJLyQjrhYauj+q",
      "include_colab_link": true
    },
    "kernelspec": {
      "name": "python3",
      "display_name": "Python 3"
    },
    "language_info": {
      "name": "python"
    }
  },
  "cells": [
    {
      "cell_type": "markdown",
      "metadata": {
        "id": "view-in-github",
        "colab_type": "text"
      },
      "source": [
        "<a href=\"https://colab.research.google.com/github/M7mdBinTareef/Internet-prog/blob/main/Untitled3.ipynb\" target=\"_parent\"><img src=\"https://colab.research.google.com/assets/colab-badge.svg\" alt=\"Open In Colab\"/></a>"
      ]
    },
    {
      "cell_type": "code",
      "execution_count": 28,
      "metadata": {
        "id": "_MMkx6I0OkDI"
      },
      "outputs": [],
      "source": [
        "# import the necessary packages\n",
        "from tensorflow.keras.preprocessing.image import ImageDataGenerator\n",
        "from tensorflow.keras.applications import MobileNetV2\n",
        "from tensorflow.keras.layers import AveragePooling2D\n",
        "from tensorflow.keras.layers import Dropout\n",
        "from tensorflow.keras.layers import Flatten\n",
        "from tensorflow.keras.layers import Dense\n",
        "from tensorflow.keras.layers import Input\n",
        "from tensorflow.keras.models import Model\n",
        "from tensorflow.keras.optimizers import Adam\n",
        "from tensorflow.keras.applications.mobilenet_v2 import preprocess_input\n",
        "from tensorflow.keras.preprocessing.image import img_to_array\n",
        "from tensorflow.keras.preprocessing.image import load_img\n",
        "from tensorflow.keras.utils import to_categorical\n",
        "from sklearn.preprocessing import LabelBinarizer\n",
        "from sklearn.model_selection import train_test_split\n",
        "from sklearn.metrics import classification_report , confusion_matrix\n",
        "from imutils import paths\n",
        "import matplotlib.pyplot as plt\n",
        "import numpy as np\n",
        "import os\n",
        "import seaborn as sns\n"
      ]
    },
    {
      "cell_type": "code",
      "source": [
        "import os\n",
        "HOME = os.getcwd()\n",
        "print(HOME)"
      ],
      "metadata": {
        "colab": {
          "base_uri": "https://localhost:8080/"
        },
        "id": "3aSQ3e3Wb63T",
        "outputId": "e15b2153-087c-4d9c-f1f6-0617c6e089ba"
      },
      "execution_count": 2,
      "outputs": [
        {
          "output_type": "stream",
          "name": "stdout",
          "text": [
            "/content\n"
          ]
        }
      ]
    },
    {
      "cell_type": "code",
      "source": [
        "\n",
        "# initialize the initial learning rate, number of epochs to train for,\n",
        "# and batch size\n",
        "INIT_LR = 1e-4\n",
        "EPOCHS = 20\n",
        "BS = 32\n"
      ],
      "metadata": {
        "id": "kxKfUE4gPN1S"
      },
      "execution_count": 3,
      "outputs": []
    },
    {
      "cell_type": "code",
      "source": [
        "from google.colab import drive\n",
        "drive.mount('/content/drive')"
      ],
      "metadata": {
        "colab": {
          "base_uri": "https://localhost:8080/"
        },
        "id": "PG2QU556bp2s",
        "outputId": "d10ee517-1f38-4680-d105-9113688b7c59"
      },
      "execution_count": 4,
      "outputs": [
        {
          "output_type": "stream",
          "name": "stdout",
          "text": [
            "Mounted at /content/drive\n"
          ]
        }
      ]
    },
    {
      "cell_type": "code",
      "source": [
        "DIRECTORY = r\"/content/drive/MyDrive/dataset\"\n",
        "CATEGORIES = [\"with_mask\", \"without_mask\"]"
      ],
      "metadata": {
        "id": "5aWv3OjfcXaO"
      },
      "execution_count": 5,
      "outputs": []
    },
    {
      "cell_type": "code",
      "source": [
        "# grab the list of images in our dataset directory, then initialize\n",
        "# the list of data (i.e., images) and class images\n",
        "print(\"[INFO] loading images...\")\n",
        "\n",
        "data = []\n",
        "labels = []\n",
        "\n",
        "for category in CATEGORIES:\n",
        "    path = os.path.join(DIRECTORY, category)\n",
        "    for img in os.listdir(path):\n",
        "    \timg_path = os.path.join(path, img)\n",
        "    \timage = load_img(img_path, target_size=(224, 224))\n",
        "    \timage = img_to_array(image)\n",
        "    \timage = preprocess_input(image)\n",
        "\n",
        "    \tdata.append(image)\n",
        "    \tlabels.append(category)"
      ],
      "metadata": {
        "colab": {
          "base_uri": "https://localhost:8080/"
        },
        "id": "HAO38cv9ck0c",
        "outputId": "5f325b6b-b2c2-4002-96b2-7298af1d1f9d"
      },
      "execution_count": 7,
      "outputs": [
        {
          "output_type": "stream",
          "name": "stdout",
          "text": [
            "[INFO] loading images...\n"
          ]
        },
        {
          "output_type": "stream",
          "name": "stderr",
          "text": [
            "/usr/local/lib/python3.10/dist-packages/PIL/Image.py:996: UserWarning: Palette images with Transparency expressed in bytes should be converted to RGBA images\n",
            "  warnings.warn(\n"
          ]
        }
      ]
    },
    {
      "cell_type": "code",
      "source": [
        "# perform one-hot encoding on the labels\n",
        "lb = LabelBinarizer()\n",
        "labels = lb.fit_transform(labels)\n",
        "labels = to_categorical(labels)\n",
        "\n",
        "data = np.array(data, dtype=\"float32\")\n",
        "labels = np.array(labels)\n",
        "\n",
        "(trainX, testX, trainY, testY) = train_test_split(data, labels,\n",
        "\ttest_size=0.20, stratify=labels, random_state=42)\n"
      ],
      "metadata": {
        "id": "Q8-atb19dSik"
      },
      "execution_count": 8,
      "outputs": []
    },
    {
      "cell_type": "code",
      "source": [
        "# construct the training image generator for data augmentation\n",
        "aug = ImageDataGenerator(\n",
        "\trotation_range=20,\n",
        "\tzoom_range=0.15,\n",
        "\twidth_shift_range=0.2,\n",
        "\theight_shift_range=0.2,\n",
        "\tshear_range=0.15,\n",
        "\thorizontal_flip=True,\n",
        "\tfill_mode=\"nearest\")"
      ],
      "metadata": {
        "id": "ej1OkJSpdfu0"
      },
      "execution_count": 9,
      "outputs": []
    },
    {
      "cell_type": "code",
      "source": [
        "# load the MobileNetV2 network, ensuring the head FC layer sets are\n",
        "# left off\n",
        "baseModel = MobileNetV2(weights=\"imagenet\", include_top=False,\n",
        "\tinput_tensor=Input(shape=(224, 224, 3)))\n"
      ],
      "metadata": {
        "colab": {
          "base_uri": "https://localhost:8080/"
        },
        "id": "8rWT-15Cdidr",
        "outputId": "d75d3539-1c30-4f18-9a45-e32f3e3a52a8"
      },
      "execution_count": 10,
      "outputs": [
        {
          "output_type": "stream",
          "name": "stderr",
          "text": [
            "WARNING:tensorflow:`input_shape` is undefined or non-square, or `rows` is not in [96, 128, 160, 192, 224]. Weights for input shape (224, 224) will be loaded as the default.\n"
          ]
        },
        {
          "output_type": "stream",
          "name": "stdout",
          "text": [
            "Downloading data from https://storage.googleapis.com/tensorflow/keras-applications/mobilenet_v2/mobilenet_v2_weights_tf_dim_ordering_tf_kernels_1.0_224_no_top.h5\n",
            "9406464/9406464 [==============================] - 0s 0us/step\n"
          ]
        }
      ]
    },
    {
      "cell_type": "code",
      "source": [
        "# construct the head of the model that will be placed on top of the\n",
        "# the base model\n",
        "headModel = baseModel.output\n",
        "headModel = AveragePooling2D(pool_size=(7, 7))(headModel)\n",
        "headModel = Flatten(name=\"flatten\")(headModel)\n",
        "headModel = Dense(128, activation=\"relu\")(headModel)\n",
        "headModel = Dropout(0.5)(headModel)\n",
        "headModel = Dense(2, activation=\"softmax\")(headModel)\n"
      ],
      "metadata": {
        "id": "f7foM7j6dmmQ"
      },
      "execution_count": 11,
      "outputs": []
    },
    {
      "cell_type": "code",
      "source": [
        "# place the head FC model on top of the base model (this will become\n",
        "# the actual model we will train)\n",
        "model = Model(inputs=baseModel.input, outputs=headModel)"
      ],
      "metadata": {
        "id": "qYJZmTwIdpHq"
      },
      "execution_count": 12,
      "outputs": []
    },
    {
      "cell_type": "code",
      "source": [
        "# loop over all layers in the base model and freeze them so they will\n",
        "# *not* be updated during the first training process\n",
        "for layer in baseModel.layers:\n",
        "\tlayer.trainable = False"
      ],
      "metadata": {
        "id": "_aGJhSHTdwGc"
      },
      "execution_count": 13,
      "outputs": []
    },
    {
      "cell_type": "code",
      "source": [
        "from tensorflow.keras.optimizers import Adam\n",
        "from tensorflow.keras.optimizers.schedules import ExponentialDecay\n",
        "\n",
        "# Define your initial learning rate and decay steps\n",
        "initial_learning_rate = INIT_LR\n",
        "lr_schedule = ExponentialDecay(\n",
        "    initial_learning_rate,\n",
        "    decay_steps=EPOCHS,\n",
        "    decay_rate=0.96,  # Adjust this decay rate as per your requirement\n",
        "    staircase=True)\n",
        "\n",
        "# Compile your model using the learning rate schedule\n",
        "print(\"[INFO] compiling model...\")\n",
        "opt = Adam(learning_rate=lr_schedule)\n",
        "model.compile(loss=\"binary_crossentropy\", optimizer=opt, metrics=[\"accuracy\"])\n"
      ],
      "metadata": {
        "colab": {
          "base_uri": "https://localhost:8080/"
        },
        "id": "4jujSMxwdys8",
        "outputId": "7c167738-bc8b-4feb-a5c0-1f34401e3634"
      },
      "execution_count": 17,
      "outputs": [
        {
          "output_type": "stream",
          "name": "stdout",
          "text": [
            "[INFO] compiling model...\n"
          ]
        }
      ]
    },
    {
      "cell_type": "code",
      "source": [
        "# train the head of the network\n",
        "print(\"[INFO] training head...\")\n",
        "H = model.fit(\n",
        "\taug.flow(trainX, trainY, batch_size=BS),\n",
        "\tsteps_per_epoch=len(trainX) // BS,\n",
        "\tvalidation_data=(testX, testY),\n",
        "\tvalidation_steps=len(testX) // BS,\n",
        "\tepochs=EPOCHS)\n"
      ],
      "metadata": {
        "colab": {
          "base_uri": "https://localhost:8080/"
        },
        "id": "2gADWiOoedkj",
        "outputId": "fe41ba5c-2814-4d66-b95a-82ce4bccae00"
      },
      "execution_count": 18,
      "outputs": [
        {
          "output_type": "stream",
          "name": "stdout",
          "text": [
            "[INFO] training head...\n",
            "Epoch 1/20\n",
            "95/95 [==============================] - 197s 2s/step - loss: 0.3800 - accuracy: 0.8655 - val_loss: 0.1620 - val_accuracy: 0.9739\n",
            "Epoch 2/20\n",
            "95/95 [==============================] - 179s 2s/step - loss: 0.1450 - accuracy: 0.9690 - val_loss: 0.0951 - val_accuracy: 0.9791\n",
            "Epoch 3/20\n",
            "95/95 [==============================] - 187s 2s/step - loss: 0.1058 - accuracy: 0.9740 - val_loss: 0.0772 - val_accuracy: 0.9791\n",
            "Epoch 4/20\n",
            "95/95 [==============================] - 187s 2s/step - loss: 0.0943 - accuracy: 0.9736 - val_loss: 0.0684 - val_accuracy: 0.9804\n",
            "Epoch 5/20\n",
            "95/95 [==============================] - 189s 2s/step - loss: 0.0698 - accuracy: 0.9838 - val_loss: 0.0619 - val_accuracy: 0.9804\n",
            "Epoch 6/20\n",
            "95/95 [==============================] - 173s 2s/step - loss: 0.0712 - accuracy: 0.9802 - val_loss: 0.0598 - val_accuracy: 0.9804\n",
            "Epoch 7/20\n",
            "95/95 [==============================] - 190s 2s/step - loss: 0.0621 - accuracy: 0.9835 - val_loss: 0.0569 - val_accuracy: 0.9804\n",
            "Epoch 8/20\n",
            "95/95 [==============================] - 175s 2s/step - loss: 0.0639 - accuracy: 0.9812 - val_loss: 0.0555 - val_accuracy: 0.9804\n",
            "Epoch 9/20\n",
            "95/95 [==============================] - 179s 2s/step - loss: 0.0609 - accuracy: 0.9822 - val_loss: 0.0543 - val_accuracy: 0.9791\n",
            "Epoch 10/20\n",
            "95/95 [==============================] - 186s 2s/step - loss: 0.0599 - accuracy: 0.9819 - val_loss: 0.0527 - val_accuracy: 0.9804\n",
            "Epoch 11/20\n",
            "95/95 [==============================] - 186s 2s/step - loss: 0.0554 - accuracy: 0.9842 - val_loss: 0.0528 - val_accuracy: 0.9791\n",
            "Epoch 12/20\n",
            "95/95 [==============================] - 192s 2s/step - loss: 0.0573 - accuracy: 0.9829 - val_loss: 0.0519 - val_accuracy: 0.9804\n",
            "Epoch 13/20\n",
            "95/95 [==============================] - 176s 2s/step - loss: 0.0560 - accuracy: 0.9855 - val_loss: 0.0522 - val_accuracy: 0.9791\n",
            "Epoch 14/20\n",
            "95/95 [==============================] - 191s 2s/step - loss: 0.0568 - accuracy: 0.9809 - val_loss: 0.0517 - val_accuracy: 0.9791\n",
            "Epoch 15/20\n",
            "95/95 [==============================] - 180s 2s/step - loss: 0.0535 - accuracy: 0.9832 - val_loss: 0.0515 - val_accuracy: 0.9791\n",
            "Epoch 16/20\n",
            "95/95 [==============================] - 185s 2s/step - loss: 0.0523 - accuracy: 0.9835 - val_loss: 0.0519 - val_accuracy: 0.9791\n",
            "Epoch 17/20\n",
            "95/95 [==============================] - 189s 2s/step - loss: 0.0526 - accuracy: 0.9855 - val_loss: 0.0518 - val_accuracy: 0.9791\n",
            "Epoch 18/20\n",
            "95/95 [==============================] - 190s 2s/step - loss: 0.0604 - accuracy: 0.9838 - val_loss: 0.0506 - val_accuracy: 0.9791\n",
            "Epoch 19/20\n",
            "95/95 [==============================] - 191s 2s/step - loss: 0.0549 - accuracy: 0.9848 - val_loss: 0.0511 - val_accuracy: 0.9791\n",
            "Epoch 20/20\n",
            "95/95 [==============================] - 188s 2s/step - loss: 0.0438 - accuracy: 0.9888 - val_loss: 0.0504 - val_accuracy: 0.9791\n"
          ]
        }
      ]
    },
    {
      "cell_type": "code",
      "source": [
        "# make predictions on the testing set\n",
        "print(\"[INFO] evaluating network...\")\n",
        "predIdxs = model.predict(testX, batch_size=BS)"
      ],
      "metadata": {
        "colab": {
          "base_uri": "https://localhost:8080/"
        },
        "id": "r5m6HbLitcFK",
        "outputId": "61ab1cf7-9c2c-4b8e-c8d7-66fcf72368c9"
      },
      "execution_count": 19,
      "outputs": [
        {
          "output_type": "stream",
          "name": "stdout",
          "text": [
            "[INFO] evaluating network...\n",
            "24/24 [==============================] - 33s 1s/step\n"
          ]
        }
      ]
    },
    {
      "cell_type": "code",
      "source": [
        "# for each image in the testing set we need to find the index of the\n",
        "# label with corresponding largest predicted probability\n",
        "predIdxs = np.argmax(predIdxs, axis=1)"
      ],
      "metadata": {
        "id": "4YhUYnyDtsmx"
      },
      "execution_count": 20,
      "outputs": []
    },
    {
      "cell_type": "code",
      "source": [
        "# show a nicely formatted classification report\n",
        "print(classification_report(testY.argmax(axis=1), predIdxs,\n",
        "\ttarget_names=lb.classes_))\n"
      ],
      "metadata": {
        "colab": {
          "base_uri": "https://localhost:8080/"
        },
        "id": "UiSmFOzTtvnw",
        "outputId": "9a258226-e8fe-48d1-ac63-320fa857cf6e"
      },
      "execution_count": 21,
      "outputs": [
        {
          "output_type": "stream",
          "name": "stdout",
          "text": [
            "              precision    recall  f1-score   support\n",
            "\n",
            "   with_mask       0.97      0.99      0.98       383\n",
            "without_mask       0.99      0.97      0.98       384\n",
            "\n",
            "    accuracy                           0.98       767\n",
            "   macro avg       0.98      0.98      0.98       767\n",
            "weighted avg       0.98      0.98      0.98       767\n",
            "\n"
          ]
        }
      ]
    },
    {
      "cell_type": "code",
      "source": [
        "# Serialize the model to disk in HDF5 format\n",
        "print(\"[INFO] saving mask detector model...\")\n",
        "model.save(\"mask_detector.h5\", save_format=\"h5\")\n"
      ],
      "metadata": {
        "colab": {
          "base_uri": "https://localhost:8080/"
        },
        "id": "hDJptT9dt-xv",
        "outputId": "d5bb6350-f0d6-4165-adc6-f2c498913840"
      },
      "execution_count": 22,
      "outputs": [
        {
          "output_type": "stream",
          "name": "stdout",
          "text": [
            "[INFO] saving mask detector model...\n"
          ]
        },
        {
          "output_type": "stream",
          "name": "stderr",
          "text": [
            "/usr/local/lib/python3.10/dist-packages/keras/src/engine/training.py:3103: UserWarning: You are saving your model as an HDF5 file via `model.save()`. This file format is considered legacy. We recommend using instead the native Keras format, e.g. `model.save('my_model.keras')`.\n",
            "  saving_api.save_model(\n"
          ]
        }
      ]
    },
    {
      "cell_type": "code",
      "source": [
        "# plot the training loss and accuracy\n",
        "N = EPOCHS\n",
        "plt.style.use(\"ggplot\")\n",
        "plt.figure()\n",
        "plt.plot(np.arange(0, N), H.history[\"loss\"], label=\"train_loss\")\n",
        "plt.plot(np.arange(0, N), H.history[\"val_loss\"], label=\"val_loss\")\n",
        "plt.plot(np.arange(0, N), H.history[\"accuracy\"], label=\"train_acc\")\n",
        "plt.plot(np.arange(0, N), H.history[\"val_accuracy\"], label=\"val_acc\")\n",
        "plt.title(\"Training Loss and Accuracy\")\n",
        "plt.xlabel(\"Epoch #\")\n",
        "plt.ylabel(\"Loss/Accuracy\")\n",
        "plt.legend(loc=\"lower left\")\n",
        "plt.savefig(\"plot.png\")"
      ],
      "metadata": {
        "colab": {
          "base_uri": "https://localhost:8080/",
          "height": 497
        },
        "id": "aT6Od8VeuONK",
        "outputId": "22f39212-445a-4b0b-83f4-c498e3e69d0e"
      },
      "execution_count": 23,
      "outputs": [
        {
          "output_type": "display_data",
          "data": {
            "text/plain": [
              "<Figure size 640x480 with 1 Axes>"
            ],
            "image/png": "[encoded data removed]"
          },
          "metadata": {}
        }
      ]
    },
    {
      "cell_type": "code",
      "source": [
        "# Generate the confusion matrix\n",
        "cm = confusion_matrix(testY.argmax(axis=1), predIdxs)\n",
        "\n",
        "# Plot the confusion matrix using seaborn for better visualization\n",
        "plt.figure(figsize=(8, 6))\n",
        "sns.heatmap(cm, annot=True, fmt='d', cmap='Blues', xticklabels=lb.classes_, yticklabels=lb.classes_)\n",
        "plt.xlabel('Predicted')\n",
        "plt.ylabel('Actual')\n",
        "plt.title('Confusion Matrix')\n",
        "plt.show()"
      ],
      "metadata": {
        "colab": {
          "base_uri": "https://localhost:8080/",
          "height": 589
        },
        "id": "rVvZWvhevZUM",
        "outputId": "51954ce9-4185-487a-f0ba-54ff72d20715"
      },
      "execution_count": 29,
      "outputs": [
        {
          "output_type": "display_data",
          "data": {
            "text/plain": [
              "<Figure size 800x600 with 2 Axes>"
            ],
            "image/png": "[encoded data removed]"
          },
          "metadata": {}
        }
      ]
    }
  ]
}